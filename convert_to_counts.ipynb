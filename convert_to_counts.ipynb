{
 "cells": [
  {
   "cell_type": "markdown",
   "metadata": {
    "collapsed": true
   },
   "source": [
    "# Convert flux to counts"
   ]
  },
  {
   "cell_type": "markdown",
   "metadata": {},
   "source": [
    "### This will convert the FITS images from units of flux to counts. Depending on the input of the conversion function will depend on what the function does. It can take in either nothing (which means do all files), a .fits ending (which means do a single file) or a .txt ending (which means do multiple files)\n",
    "\n",
    "#### To convert the data from flux to counts, it uses the conversion equation counts = flux * (exptime/fluxconv) where exptime and fluxconv factor is found in the FITS header"
   ]
  },
  {
   "cell_type": "code",
   "execution_count": 1,
   "metadata": {
    "collapsed": true
   },
   "outputs": [],
   "source": [
    "# Import modules\n",
    "import re\n",
    "import shutil\n",
    "from astropy.io import fits\n",
    "import os\n",
    "import fnmatch"
   ]
  },
  {
   "cell_type": "code",
   "execution_count": 2,
   "metadata": {
    "collapsed": true
   },
   "outputs": [],
   "source": [
    "# Input - what to be converted\n",
    "input = ''"
   ]
  },
  {
   "cell_type": "code",
   "execution_count": 3,
   "metadata": {},
   "outputs": [
    {
     "name": "stdout",
     "output_type": "stream",
     "text": [
      "No input - converting all files\n"
     ]
    }
   ],
   "source": [
    "# Determine what type of file the input it\n",
    "if input.endswith('.fits'):\n",
    "    print \"It is a single image\"\n",
    "elif input.endswith('.txt'):\n",
    "    print \"It is a text file containing multiple images\"\n",
    "elif input == \"\":\n",
    "    print \"No input - converting all files\""
   ]
  },
  {
   "cell_type": "code",
   "execution_count": 4,
   "metadata": {
    "collapsed": true
   },
   "outputs": [],
   "source": [
    "def convert_single_image(input):\n",
    "    \n",
    "    # Convert a single file - '.fits' ending\n",
    "    \n",
    "    new_name = re.sub('.fits', '_dn.fits', input)\n",
    "    \n",
    "    # Only if the dn file doesn't exist does it do this\n",
    "    if os.path.isfile(new_name) == False:\n",
    "        shutil.copy(input, new_name)\n",
    "        hdulist = fits.open(new_name, mode='update')\n",
    "        prihdr = hdulist[0].header\n",
    "        scidata = hdulist[0].data\n",
    "        exptime = prihdr['exptime']\n",
    "        fluxconv = prihdr['fluxconv']\n",
    "        scidata *= exptime/fluxconv"
   ]
  },
  {
   "cell_type": "code",
   "execution_count": 6,
   "metadata": {
    "collapsed": true
   },
   "outputs": [],
   "source": [
    "def convert_multiple_images(input):\n",
    "    # Convert multiple file - '.txt' ending\n",
    "    f = open(input, 'r')\n",
    "    files = f.read().splitlines()\n",
    "    \n",
    "    for image in files:\n",
    "        convert_single_image(image)\n",
    "\n",
    "    f.close()"
   ]
  },
  {
   "cell_type": "code",
   "execution_count": 5,
   "metadata": {
    "collapsed": true
   },
   "outputs": [],
   "source": [
    "# Convert all files - no input\n",
    "def convert_all_files(input):\n",
    "    \n",
    "    home = '/home/ac833/Data/LMC/'\n",
    "    os.chdir(home)\n",
    "    \n",
    "    # Finds all directories - these are all the r... folders that need to be sorted\n",
    "    directories = os.listdir(home)\n",
    "\n",
    "    for directory in directories:\n",
    "        for root,dirs,files in os.walk(directory):\n",
    "            for filename in files:\n",
    "                if fnmatch.fnmatch(filename,'*_cbcd.fits'): # find all the BCD images\n",
    "                    convert_single_image(os.path.join(root,filename))\n"
   ]
  },
  {
   "cell_type": "code",
   "execution_count": 7,
   "metadata": {
    "collapsed": true
   },
   "outputs": [],
   "source": [
    "# Convert corresponding files to counts\n",
    "if input.endswith('.fits'):\n",
    "    convert_single_image(input)\n",
    "elif input.endswith('.txt'):\n",
    "    convert_multiple_images(input)\n",
    "elif input == \"\":\n",
    "    convert_all_files(input)"
   ]
  },
  {
   "cell_type": "markdown",
   "metadata": {},
   "source": [
    "## Finished - the input should now be converted to counts"
   ]
  }
 ],
 "metadata": {
  "kernelspec": {
   "display_name": "Python 2",
   "language": "python",
   "name": "python2"
  },
  "language_info": {
   "codemirror_mode": {
    "name": "ipython",
    "version": 2
   },
   "file_extension": ".py",
   "mimetype": "text/x-python",
   "name": "python",
   "nbconvert_exporter": "python",
   "pygments_lexer": "ipython2",
   "version": "2.7.13"
  }
 },
 "nbformat": 4,
 "nbformat_minor": 2
}
